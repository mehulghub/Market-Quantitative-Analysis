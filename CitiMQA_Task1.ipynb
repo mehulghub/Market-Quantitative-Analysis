{
 "cells": [
  {
   "cell_type": "code",
   "execution_count": 31,
   "id": "42b73ce3",
   "metadata": {},
   "outputs": [],
   "source": [
    "import numpy as np\n",
    "from scipy.stats import norm \n",
    "import datetime as dt"
   ]
  },
  {
   "cell_type": "code",
   "execution_count": 32,
   "id": "d01ddddf",
   "metadata": {},
   "outputs": [
    {
     "name": "stdout",
     "output_type": "stream",
     "text": [
      "Requirement already satisfied: yfinance in f:\\anaconda\\lib\\site-packages (0.2.54)\n",
      "Requirement already satisfied: pandas>=1.3.0 in f:\\anaconda\\lib\\site-packages (from yfinance) (1.5.3)\n",
      "Requirement already satisfied: numpy>=1.16.5 in f:\\anaconda\\lib\\site-packages (from yfinance) (1.24.3)\n",
      "Requirement already satisfied: requests>=2.31 in f:\\anaconda\\lib\\site-packages (from yfinance) (2.31.0)\n",
      "Requirement already satisfied: multitasking>=0.0.7 in f:\\anaconda\\lib\\site-packages (from yfinance) (0.0.11)\n",
      "Requirement already satisfied: platformdirs>=2.0.0 in f:\\anaconda\\lib\\site-packages (from yfinance) (2.5.2)\n",
      "Requirement already satisfied: pytz>=2022.5 in f:\\anaconda\\lib\\site-packages (from yfinance) (2022.7)\n",
      "Requirement already satisfied: frozendict>=2.3.4 in f:\\anaconda\\lib\\site-packages (from yfinance) (2.4.6)\n",
      "Requirement already satisfied: peewee>=3.16.2 in f:\\anaconda\\lib\\site-packages (from yfinance) (3.17.9)\n",
      "Requirement already satisfied: beautifulsoup4>=4.11.1 in f:\\anaconda\\lib\\site-packages (from yfinance) (4.12.2)\n",
      "Requirement already satisfied: soupsieve>1.2 in f:\\anaconda\\lib\\site-packages (from beautifulsoup4>=4.11.1->yfinance) (2.4)\n",
      "Requirement already satisfied: python-dateutil>=2.8.1 in f:\\anaconda\\lib\\site-packages (from pandas>=1.3.0->yfinance) (2.8.2)\n",
      "Requirement already satisfied: charset-normalizer<4,>=2 in f:\\anaconda\\lib\\site-packages (from requests>=2.31->yfinance) (2.0.4)\n",
      "Requirement already satisfied: idna<4,>=2.5 in f:\\anaconda\\lib\\site-packages (from requests>=2.31->yfinance) (3.4)\n",
      "Requirement already satisfied: urllib3<3,>=1.21.1 in f:\\anaconda\\lib\\site-packages (from requests>=2.31->yfinance) (1.26.16)\n",
      "Requirement already satisfied: certifi>=2017.4.17 in f:\\anaconda\\lib\\site-packages (from requests>=2.31->yfinance) (2023.7.22)\n",
      "Requirement already satisfied: six>=1.5 in f:\\anaconda\\lib\\site-packages (from python-dateutil>=2.8.1->pandas>=1.3.0->yfinance) (1.16.0)\n"
     ]
    }
   ],
   "source": [
    "! pip install yfinance"
   ]
  },
  {
   "cell_type": "code",
   "execution_count": 33,
   "id": "1137ae80",
   "metadata": {},
   "outputs": [],
   "source": [
    "import yfinance as yf"
   ]
  },
  {
   "cell_type": "code",
   "execution_count": 34,
   "id": "6ddb2f32",
   "metadata": {},
   "outputs": [],
   "source": [
    "#Calculating Historical Volatility for last one year on daily returns\n",
    "def vol_cal(df):\n",
    "    TRADING_DAYS= 252\n",
    "    returns= np.log(df[\"Close\"]/df[\"Close\"].shift(1))    \n",
    "    returns.fillna(0, inplace=True)\n",
    "    vol= returns.std()*np.sqrt(TRADING_DAYS) #annualizing the standard deviation by multiplying with square root of 252\n",
    "    return vol"
   ]
  },
  {
   "cell_type": "code",
   "execution_count": 35,
   "id": "95587032",
   "metadata": {},
   "outputs": [],
   "source": [
    "# 1.Cost of Carry Model"
   ]
  },
  {
   "cell_type": "code",
   "execution_count": 36,
   "id": "101895ed",
   "metadata": {},
   "outputs": [],
   "source": [
    "def cost_to_carry(St, r, d, T):\n",
    "    \n",
    "    #Ft: Futures price\n",
    "    #St: Spot price\n",
    "    #r: Risk-free rate\n",
    "    #d: Storage cost\n",
    "    #T: Time to maturity (0.5 years for six months)\n",
    "     \n",
    "    Ft= St*np.exp((r+d)*T)    \n",
    "    \n",
    "    return Ft"
   ]
  },
  {
   "cell_type": "code",
   "execution_count": 37,
   "id": "e1440bb6",
   "metadata": {},
   "outputs": [],
   "source": [
    "# 2.Black Scholes Model"
   ]
  },
  {
   "cell_type": "code",
   "execution_count": 38,
   "id": "4068663b",
   "metadata": {},
   "outputs": [],
   "source": [
    "def black_scholes(St, X, r, T, vol):\n",
    "    \n",
    "    # c= call option price\n",
    "    # St= spot price \n",
    "    # X= strike price\n",
    "    # rt= risk-free rate\n",
    "    # T= Time to Maturity\n",
    "    # v= volatility\n",
    "    \n",
    "    #calculating d1 and d2\n",
    "    d1= (np.log(St/X) + (r+ 0.5*vol**2)*T)/(vol*T**0.5)\n",
    "    d2= d1- vol*(T**0.5)\n",
    "    \n",
    "    #Calculating the Call Option Price using Black Scholes Model\n",
    "    c= St*norm.cdf(d1) - X*np.exp(-r*T)*norm.cdf(d2)\n",
    "    \n",
    "    return c"
   ]
  },
  {
   "cell_type": "code",
   "execution_count": 39,
   "id": "9af6a737",
   "metadata": {},
   "outputs": [],
   "source": [
    "#3. Monte Carlo Simulation"
   ]
  },
  {
   "cell_type": "code",
   "execution_count": 40,
   "id": "4e194b7a",
   "metadata": {},
   "outputs": [],
   "source": [
    "def monte_carlo_sim(St, T, vol):\n",
    "    \n",
    "    num_simulations= 10000 #Number of Simulations\n",
    "    days= 252 #Considering 252 Trading days\n",
    "    t= T/days\n",
    "    \n",
    "    #Simulating Path Prices\n",
    "    np.random.seed(42) #Reproducibility of Random numbers\n",
    "    prices_path= np.zeros((days, num_simulations))\n",
    "    prices_path[0]= St\n",
    "    for i in range(1, days):\n",
    "        z= np.random.standard_normal(num_simulations)\n",
    "        prices_path[i]= prices_path[i-1]*np.exp((r- 0.5*vol**2)*t + vol* np.sqrt(t)*z)\n",
    "        \n",
    "    # Calculating the average simulated price at maturity\n",
    "    average_simulated_price = np.mean(prices_path[-1])\n",
    "    \n",
    "    return average_simulated_price"
   ]
  },
  {
   "cell_type": "code",
   "execution_count": 41,
   "id": "2cf5f340",
   "metadata": {},
   "outputs": [
    {
     "name": "stderr",
     "output_type": "stream",
     "text": [
      "[*********************100%***********************]  1 of 1 completed\n"
     ]
    },
    {
     "name": "stdout",
     "output_type": "stream",
     "text": [
      "The fair price of Futures Contract of Coffee in 6.0 months is  436.276 Cents per Pound\n",
      "The Call Option Price using Black Scholes is USd 45.735 per Pound.\n",
      "The average simulated price of the coffee futures contract at 6 months maturity is USd 433.190 per Pound.\n"
     ]
    }
   ],
   "source": [
    "if __name__== \"__main__\":\n",
    "    \n",
    "    St= 425.10 # Bloomberg website states coffee commodity spot price= 425.10 USd/lb \n",
    "    r= 0.0419 # US Department of Treasury website states Daily Treasury Bill rate for 6 months= 4.19 on 10/02/2025(dd/mm/yyyy)\n",
    "    d= 0.01 # assumption\n",
    "    T= 0.5 # 6 months\n",
    "    X= 426.10 #A little higher than Strike Price\n",
    "    \n",
    "    #Downloading Coffee dataset and calculating volatility\n",
    "    df= yf.download(\"KC=F\", dt.datetime(2024, 2, 10), dt.datetime(2025, 2, 10))\n",
    "    vol= vol_cal(df)\n",
    "    vol= vol.iloc[0] #Because vol is an array of length one but we need that value\n",
    "    \n",
    "    #1. Cost of Carry Model\n",
    "    Ft=cost_to_carry(St, r, d, T)\n",
    "    print(f\"The fair price of Futures Contract of Coffee in {T*12} months is {Ft: .3f} Cents per Pound\")\n",
    "    \n",
    "    # 2.Black Scholes Model\n",
    "    c= black_scholes(St, X, r, T, vol)\n",
    "    print(f\"The Call Option Price using Black Scholes is USd {c:.3f} per Pound.\") \n",
    "    \n",
    "    #3. Monte Carlo Simulation\n",
    "    average_simulated_price= monte_carlo_sim(St, T, vol)\n",
    "    print(f\"The average simulated price of the coffee futures contract at 6 months maturity is USd {average_simulated_price:.3f} per Pound.\")"
   ]
  },
  {
   "cell_type": "code",
   "execution_count": null,
   "id": "ccb68844",
   "metadata": {},
   "outputs": [],
   "source": []
  },
  {
   "cell_type": "code",
   "execution_count": null,
   "id": "5fa1f015",
   "metadata": {},
   "outputs": [],
   "source": []
  },
  {
   "cell_type": "code",
   "execution_count": null,
   "id": "c26bdaf0",
   "metadata": {},
   "outputs": [],
   "source": []
  }
 ],
 "metadata": {
  "kernelspec": {
   "display_name": "Python 3 (ipykernel)",
   "language": "python",
   "name": "python3"
  },
  "language_info": {
   "codemirror_mode": {
    "name": "ipython",
    "version": 3
   },
   "file_extension": ".py",
   "mimetype": "text/x-python",
   "name": "python",
   "nbconvert_exporter": "python",
   "pygments_lexer": "ipython3",
   "version": "3.11.4"
  }
 },
 "nbformat": 4,
 "nbformat_minor": 5
}
